{
 "cells": [
  {
   "cell_type": "code",
   "execution_count": 2,
   "metadata": {},
   "outputs": [],
   "source": [
    "import numpy as np\n",
    "import pandas as pd\n",
    "import matplotlib.pyplot as plt\n",
    "import cv2\n",
    "import tensorflow as tf\n",
    "from tensorflow import  keras\n",
    "from keras.preprocessing.image import load_img,img_to_array,array_to_img\n",
    "from os import listdir"
   ]
  },
  {
   "cell_type": "code",
   "execution_count": 3,
   "metadata": {},
   "outputs": [
    {
     "data": {
      "text/plain": [
       "(2271,)"
      ]
     },
     "execution_count": 3,
     "metadata": {},
     "output_type": "execute_result"
    }
   ],
   "source": [
    "X=[]\n",
    "Y=[]\n",
    "\n",
    "for directory in listdir('aug/'):\n",
    "    for filename in listdir('aug/'+ directory):\n",
    "        img = load_img('aug/'+directory+'/'+filename)\n",
    "        img=img.resize((240,240))\n",
    "        img=img_to_array(img)/255\n",
    "        X.append(img)\n",
    "        if directory=='no':\n",
    "            Y.append(0)\n",
    "        else :\n",
    "            Y.append(1)\n",
    "\n",
    "np.array(X).shape\n",
    "\n",
    "np.array(Y).shape"
   ]
  },
  {
   "cell_type": "code",
   "execution_count": 4,
   "metadata": {},
   "outputs": [
    {
     "name": "stdout",
     "output_type": "stream",
     "text": [
      "(2271, 240, 240, 3)\n",
      "(2271,)\n"
     ]
    }
   ],
   "source": [
    "print(np.array(X).shape,np.array(Y).shape,sep=\"\\n\")"
   ]
  },
  {
   "cell_type": "code",
   "execution_count": 5,
   "metadata": {},
   "outputs": [],
   "source": [
    "train_X=np.array(X)\n",
    "train_Y=np.array(Y).reshape((2271,1))"
   ]
  },
  {
   "cell_type": "code",
   "execution_count": 6,
   "metadata": {},
   "outputs": [
    {
     "data": {
      "text/plain": [
       "(2271, 240, 240, 3)"
      ]
     },
     "execution_count": 6,
     "metadata": {},
     "output_type": "execute_result"
    }
   ],
   "source": [
    "train_X.shape"
   ]
  },
  {
   "cell_type": "code",
   "execution_count": 7,
   "metadata": {},
   "outputs": [
    {
     "data": {
      "text/plain": [
       "(2271, 1)"
      ]
     },
     "execution_count": 7,
     "metadata": {},
     "output_type": "execute_result"
    }
   ],
   "source": [
    "train_Y.shape"
   ]
  },
  {
   "cell_type": "code",
   "execution_count": 8,
   "metadata": {},
   "outputs": [],
   "source": [
    "from sklearn.utils import shuffle"
   ]
  },
  {
   "cell_type": "code",
   "execution_count": 9,
   "metadata": {},
   "outputs": [],
   "source": [
    "train_X,train_Y=shuffle(train_X,train_Y)"
   ]
  },
  {
   "cell_type": "code",
   "execution_count": 10,
   "metadata": {},
   "outputs": [],
   "source": [
    "from sklearn.model_selection import train_test_split"
   ]
  },
  {
   "cell_type": "code",
   "execution_count": 11,
   "metadata": {},
   "outputs": [],
   "source": [
    "X_train, X_val, y_train, y_val = train_test_split(train_X, train_Y, test_size=0.3, random_state=42)"
   ]
  },
  {
   "cell_type": "code",
   "execution_count": 12,
   "metadata": {},
   "outputs": [],
   "source": [
    "X_val,X_test,y_val,y_test=train_test_split(X_val,y_val,test_size=.5,random_state=42)"
   ]
  },
  {
   "cell_type": "code",
   "execution_count": 13,
   "metadata": {},
   "outputs": [
    {
     "data": {
      "text/plain": [
       "(341, 240, 240, 3)"
      ]
     },
     "execution_count": 13,
     "metadata": {},
     "output_type": "execute_result"
    }
   ],
   "source": [
    "X_val.shape"
   ]
  },
  {
   "cell_type": "code",
   "execution_count": 14,
   "metadata": {},
   "outputs": [
    {
     "data": {
      "text/plain": [
       "(341, 240, 240, 3)"
      ]
     },
     "execution_count": 14,
     "metadata": {},
     "output_type": "execute_result"
    }
   ],
   "source": [
    "X_test.shape"
   ]
  },
  {
   "cell_type": "code",
   "execution_count": 15,
   "metadata": {},
   "outputs": [
    {
     "data": {
      "text/plain": [
       "(1589, 240, 240, 3)"
      ]
     },
     "execution_count": 15,
     "metadata": {},
     "output_type": "execute_result"
    }
   ],
   "source": [
    "X_train.shape"
   ]
  },
  {
   "cell_type": "code",
   "execution_count": 16,
   "metadata": {},
   "outputs": [],
   "source": [
    "from keras.models import Sequential\n",
    "from keras.callbacks import EarlyStopping\n",
    "from keras.layers import Dense,Dropout,Conv2D,MaxPool2D,Flatten,ZeroPadding2D"
   ]
  },
  {
   "cell_type": "code",
   "execution_count": 33,
   "metadata": {},
   "outputs": [
    {
     "name": "stdout",
     "output_type": "stream",
     "text": [
      "Train on 1589 samples, validate on 341 samples\n",
      "Epoch 1/5\n",
      "1589/1589 [==============================] - 11s 7ms/sample - loss: 0.6661 - accuracy: 0.6860 - val_loss: 0.5411 - val_accuracy: 0.7331\n",
      "Epoch 2/5\n",
      "1589/1589 [==============================] - 10s 7ms/sample - loss: 0.4515 - accuracy: 0.7904 - val_loss: 0.5028 - val_accuracy: 0.7683\n",
      "Epoch 3/5\n",
      "1589/1589 [==============================] - 10s 6ms/sample - loss: 0.3525 - accuracy: 0.8502 - val_loss: 0.4800 - val_accuracy: 0.7801\n",
      "Epoch 4/5\n",
      "1589/1589 [==============================] - 10s 6ms/sample - loss: 0.2998 - accuracy: 0.8691 - val_loss: 0.5003 - val_accuracy: 0.7654\n",
      "Epoch 5/5\n",
      "1589/1589 [==============================] - 10s 7ms/sample - loss: 0.2166 - accuracy: 0.9201 - val_loss: 0.5351 - val_accuracy: 0.7595\n"
     ]
    },
    {
     "data": {
      "text/plain": [
       "<tensorflow.python.keras.callbacks.History at 0x1b86cefe708>"
      ]
     },
     "execution_count": 33,
     "metadata": {},
     "output_type": "execute_result"
    }
   ],
   "source": [
    "cnn = Sequential()\n",
    "\n",
    "# Step 1 - Convolution\n",
    "cnn.add(tf.keras.layers.Conv2D(filters=32, kernel_size=3, activation='relu', input_shape=[128, 128, 3]))\n",
    "\n",
    "# Step 2 - Pooling\n",
    "cnn.add(tf.keras.layers.MaxPool2D(pool_size=2, strides=2))\n",
    "\n",
    "# Adding a second convolutional layer\n",
    "cnn.add(tf.keras.layers.Conv2D(filters=32, kernel_size=3, activation='relu'))\n",
    "cnn.add(tf.keras.layers.MaxPool2D(pool_size=2, strides=2))\n",
    "\n",
    "# Step 3 - Flattening\n",
    "cnn.add(tf.keras.layers.Flatten())\n",
    "\n",
    "# Step 4 - Full Connection\n",
    "cnn.add(tf.keras.layers.Dense(units=128, activation='relu'))\n",
    "\n",
    "cnn.add(tf.keras.layers.Dense(units=65,activation='relu'))\n",
    "\n",
    "# Step 5 - Output Layer\n",
    "cnn.add(tf.keras.layers.Dense(units=1, activation='sigmoid'))\n",
    "\n",
    "# Part 3 - Training the CNN\n",
    "\n",
    "# Compiling the CNN\n",
    "cnn.compile(optimizer = 'adam', loss = 'binary_crossentropy', metrics = ['accuracy'])\n",
    "\n",
    "# Training the CNN on the Training set and evaluating it on the Test set\n",
    "cnn.fit(x=X_train,y=y_train, validation_data = (X_val,y_val), epochs = 5)"
   ]
  },
  {
   "cell_type": "code",
   "execution_count": 31,
   "metadata": {},
   "outputs": [],
   "source": [
    "model=Sequential()"
   ]
  },
  {
   "cell_type": "code",
   "execution_count": 32,
   "metadata": {},
   "outputs": [],
   "source": [
    "model.add(Conv2D(filters=32, kernel_size=3, activation='relu', input_shape=[240, 240, 3]))\n",
    "model.add(ZeroPadding2D((2, 2)))\n",
    "model.add(MaxPool2D(pool_size=(4, 4),strides=2))\n",
    "model.add(MaxPool2D(pool_size=(4,4)))\n"
   ]
  },
  {
   "cell_type": "code",
   "execution_count": 33,
   "metadata": {},
   "outputs": [],
   "source": [
    "model.add(Flatten())"
   ]
  },
  {
   "cell_type": "code",
   "execution_count": 34,
   "metadata": {},
   "outputs": [],
   "source": [
    "model.add(Dense(128, activation='relu'))\n",
    "model.add(Dropout(.5))\n",
    "model.add(Dense(64,activation='relu'))\n",
    "model.add(Dropout(.5))\n",
    "model.add(Dense(1, activation='sigmoid'))"
   ]
  },
  {
   "cell_type": "code",
   "execution_count": 35,
   "metadata": {},
   "outputs": [],
   "source": [
    "model.compile(optimizer='adam',loss='binary_crossentropy',metrics=['accuracy'])"
   ]
  },
  {
   "cell_type": "code",
   "execution_count": 36,
   "metadata": {},
   "outputs": [
    {
     "name": "stdout",
     "output_type": "stream",
     "text": [
      "Train on 1589 samples, validate on 341 samples\n",
      "Epoch 1/10\n",
      "1589/1589 [==============================] - 53s 33ms/step - loss: 0.6937 - accuracy: 0.6155 - val_loss: 0.5567 - val_accuracy: 0.7449\n",
      "Epoch 2/10\n",
      "1589/1589 [==============================] - 51s 32ms/step - loss: 0.5693 - accuracy: 0.7048 - val_loss: 0.5372 - val_accuracy: 0.7713\n",
      "Epoch 3/10\n",
      "1589/1589 [==============================] - 51s 32ms/step - loss: 0.5331 - accuracy: 0.7565 - val_loss: 0.4674 - val_accuracy: 0.8094\n",
      "Epoch 4/10\n",
      "1589/1589 [==============================] - 51s 32ms/step - loss: 0.4794 - accuracy: 0.7867 - val_loss: 0.5033 - val_accuracy: 0.7742\n",
      "Epoch 5/10\n",
      "1589/1589 [==============================] - 52s 33ms/step - loss: 0.4553 - accuracy: 0.7930 - val_loss: 0.4039 - val_accuracy: 0.8416\n",
      "Epoch 6/10\n",
      "1589/1589 [==============================] - 51s 32ms/step - loss: 0.3767 - accuracy: 0.8345 - val_loss: 0.3820 - val_accuracy: 0.8504\n",
      "Epoch 7/10\n",
      "1589/1589 [==============================] - 51s 32ms/step - loss: 0.3539 - accuracy: 0.8490 - val_loss: 0.3696 - val_accuracy: 0.8592\n",
      "Epoch 8/10\n",
      "1589/1589 [==============================] - 51s 32ms/step - loss: 0.3161 - accuracy: 0.8634 - val_loss: 0.3691 - val_accuracy: 0.8651\n",
      "Epoch 9/10\n",
      "1589/1589 [==============================] - 51s 32ms/step - loss: 0.2595 - accuracy: 0.8955 - val_loss: 0.3520 - val_accuracy: 0.8827\n",
      "Epoch 10/10\n",
      "1589/1589 [==============================] - 51s 32ms/step - loss: 0.2218 - accuracy: 0.9081 - val_loss: 0.3961 - val_accuracy: 0.8592\n"
     ]
    },
    {
     "data": {
      "text/plain": [
       "<keras.callbacks.callbacks.History at 0x1c5dc17da88>"
      ]
     },
     "execution_count": 36,
     "metadata": {},
     "output_type": "execute_result"
    }
   ],
   "source": [
    "model.fit(x=X_train,y=y_train,validation_data=(X_test,y_test),epochs=20,batch_size=32,verbose=1)"
   ]
  },
  {
   "cell_type": "code",
   "execution_count": 37,
   "metadata": {},
   "outputs": [],
   "source": [
    "loss=pd.DataFrame(model.history.history)"
   ]
  },
  {
   "cell_type": "code",
   "execution_count": 38,
   "metadata": {},
   "outputs": [
    {
     "data": {
      "text/plain": [
       "<matplotlib.axes._subplots.AxesSubplot at 0x1c5dc25cb48>"
      ]
     },
     "execution_count": 38,
     "metadata": {},
     "output_type": "execute_result"
    },
    {
     "data": {
      "image/png": "[encoded data removed]",
      "text/plain": [
       "<Figure size 432x288 with 1 Axes>"
      ]
     },
     "metadata": {
      "needs_background": "light"
     },
     "output_type": "display_data"
    }
   ],
   "source": [
    "loss.plot()"
   ]
  },
  {
   "cell_type": "code",
   "execution_count": 39,
   "metadata": {},
   "outputs": [
    {
     "name": "stdout",
     "output_type": "stream",
     "text": [
      "Train on 1589 samples, validate on 341 samples\n",
      "Epoch 1/3\n",
      "1589/1589 [==============================] - 53s 33ms/step - loss: 0.2262 - accuracy: 0.9132 - val_loss: 0.3478 - val_accuracy: 0.8856\n",
      "Epoch 2/3\n",
      "1589/1589 [==============================] - 53s 34ms/step - loss: 0.1938 - accuracy: 0.9232 - val_loss: 0.3762 - val_accuracy: 0.8768\n",
      "Epoch 3/3\n",
      "1589/1589 [==============================] - 53s 33ms/step - loss: 0.1546 - accuracy: 0.9383 - val_loss: 0.4410 - val_accuracy: 0.8622\n"
     ]
    },
    {
     "data": {
      "text/plain": [
       "<keras.callbacks.callbacks.History at 0x1c5dc25a688>"
      ]
     },
     "execution_count": 39,
     "metadata": {},
     "output_type": "execute_result"
    }
   ],
   "source": [
    "model.fit(x=X_train,y=y_train,validation_data=(X_test,y_test),epochs=3,batch_size=32,verbose=1)"
   ]
  },
  {
   "cell_type": "code",
   "execution_count": 40,
   "metadata": {},
   "outputs": [
    {
     "name": "stdout",
     "output_type": "stream",
     "text": [
      "Train on 1589 samples, validate on 341 samples\n",
      "Epoch 1/10\n",
      "1589/1589 [==============================] - 53s 33ms/step - loss: 0.1378 - accuracy: 0.9440 - val_loss: 0.4066 - val_accuracy: 0.8974\n",
      "Epoch 2/10\n",
      "1589/1589 [==============================] - 53s 34ms/step - loss: 0.1368 - accuracy: 0.9459 - val_loss: 0.4303 - val_accuracy: 0.8915\n",
      "Epoch 3/10\n",
      "1589/1589 [==============================] - 52s 33ms/step - loss: 0.1265 - accuracy: 0.9541 - val_loss: 0.3765 - val_accuracy: 0.8944\n",
      "Epoch 4/10\n",
      "1589/1589 [==============================] - 52s 33ms/step - loss: 0.1184 - accuracy: 0.9585 - val_loss: 0.4919 - val_accuracy: 0.8944\n",
      "Epoch 5/10\n",
      "1589/1589 [==============================] - 56s 35ms/step - loss: 0.0878 - accuracy: 0.9622 - val_loss: 0.5339 - val_accuracy: 0.8856\n",
      "Epoch 6/10\n",
      "1589/1589 [==============================] - 52s 33ms/step - loss: 0.1025 - accuracy: 0.9610 - val_loss: 0.4976 - val_accuracy: 0.8856\n",
      "Epoch 7/10\n",
      "1589/1589 [==============================] - 51s 32ms/step - loss: 0.0703 - accuracy: 0.9717 - val_loss: 0.5641 - val_accuracy: 0.8768\n",
      "Epoch 8/10\n",
      "1589/1589 [==============================] - 51s 32ms/step - loss: 0.0680 - accuracy: 0.9729 - val_loss: 0.5728 - val_accuracy: 0.8915\n",
      "Epoch 9/10\n",
      "1589/1589 [==============================] - 51s 32ms/step - loss: 0.0691 - accuracy: 0.9698 - val_loss: 0.5059 - val_accuracy: 0.8827\n",
      "Epoch 10/10\n",
      "1589/1589 [==============================] - 52s 32ms/step - loss: 0.0604 - accuracy: 0.9748 - val_loss: 0.5640 - val_accuracy: 0.8944\n"
     ]
    },
    {
     "data": {
      "text/plain": [
       "<keras.callbacks.callbacks.History at 0x1c5d9c44e08>"
      ]
     },
     "execution_count": 40,
     "metadata": {},
     "output_type": "execute_result"
    }
   ],
   "source": [
    "model.fit(x=X_train,y=y_train,validation_data=(X_test,y_test),epochs=10,batch_size=32,verbose=1)"
   ]
  },
  {
   "cell_type": "code",
   "execution_count": 41,
   "metadata": {},
   "outputs": [
    {
     "data": {
      "text/plain": [
       "<matplotlib.axes._subplots.AxesSubplot at 0x1c5d99d3288>"
      ]
     },
     "execution_count": 41,
     "metadata": {},
     "output_type": "execute_result"
    },
    {
     "data": {
      "image/png": "[encoded data removed]",
      "text/plain": [
       "<Figure size 432x288 with 1 Axes>"
      ]
     },
     "metadata": {
      "needs_background": "light"
     },
     "output_type": "display_data"
    }
   ],
   "source": [
    "loss=pd.DataFrame(model.history.history)\n",
    "\n",
    "loss.plot()"
   ]
  },
  {
   "cell_type": "code",
   "execution_count": null,
   "metadata": {},
   "outputs": [],
   "source": []
  }
 ],
 "metadata": {
  "hide_input": false,
  "kernelspec": {
   "display_name": "Python 3",
   "language": "python",
   "name": "python3"
  },
  "language_info": {
   "codemirror_mode": {
    "name": "ipython",
    "version": 3
   },
   "file_extension": ".py",
   "mimetype": "text/x-python",
   "name": "python",
   "nbconvert_exporter": "python",
   "pygments_lexer": "ipython3",
   "version": "3.7.4"
  }
 },
 "nbformat": 4,
 "nbformat_minor": 4
}
